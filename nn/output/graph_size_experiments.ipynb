{
 "cells": [
  {
   "cell_type": "markdown",
   "id": "55f4b334",
   "metadata": {},
   "source": [
    "# Notebook for graphing results of size experiments"
   ]
  },
  {
   "cell_type": "code",
   "execution_count": 1,
   "id": "e45b9799",
   "metadata": {},
   "outputs": [],
   "source": [
    "import matplotlib.pyplot as plt\n",
    "import pandas as pd"
   ]
  },
  {
   "cell_type": "code",
   "execution_count": 8,
   "id": "95553d61",
   "metadata": {},
   "outputs": [],
   "source": [
    "df = pd.read_csv(\"size_experiments.n1acc.txt\", sep=\"\\t\")"
   ]
  },
  {
   "cell_type": "code",
   "execution_count": 9,
   "id": "0e88c92c",
   "metadata": {},
   "outputs": [
    {
     "data": {
      "text/plain": [
       "Index(['size', 'testing_accuracy'], dtype='object')"
      ]
     },
     "execution_count": 9,
     "metadata": {},
     "output_type": "execute_result"
    }
   ],
   "source": [
    "df.columns"
   ]
  },
  {
   "cell_type": "code",
   "execution_count": 15,
   "id": "d4ad412c",
   "metadata": {},
   "outputs": [
    {
     "data": {
      "text/plain": [
       "0     0.606061\n",
       "1     0.878788\n",
       "2     0.953030\n",
       "3     0.958586\n",
       "4     0.972349\n",
       "5     0.968788\n",
       "6     0.968939\n",
       "7     0.970779\n",
       "8     0.973106\n",
       "9     0.971212\n",
       "10    0.976061\n",
       "11    0.973278\n",
       "12    0.975126\n",
       "13    0.969930\n",
       "14    0.974134\n",
       "15    0.976768\n",
       "16    0.974811\n",
       "17    0.974955\n",
       "18    0.971886\n",
       "19    0.972010\n",
       "20    0.975379\n",
       "21    0.975613\n",
       "22    0.972727\n",
       "23    0.974835\n",
       "24    0.975253\n",
       "25    0.975273\n",
       "26    0.974942\n",
       "27    0.973850\n",
       "28    0.974513\n",
       "29    0.974086\n",
       "30    0.974394\n",
       "31    0.973851\n",
       "32    0.973153\n",
       "33    0.976676\n",
       "34    0.975089\n",
       "35    0.975758\n",
       "36    0.974026\n",
       "37    0.976389\n",
       "38    0.974365\n",
       "39    0.974043\n",
       "40    0.975796\n",
       "41    0.974924\n",
       "42    0.974169\n",
       "43    0.974495\n",
       "44    0.973925\n",
       "45    0.974001\n",
       "46    0.976162\n",
       "47    0.975461\n",
       "48    0.973275\n",
       "49    0.974274\n",
       "50    0.974057\n",
       "51    0.975455\n",
       "52    0.974718\n",
       "53    0.974155\n",
       "54    0.975586\n",
       "Name: testing_accuracy, dtype: float64"
      ]
     },
     "execution_count": 15,
     "metadata": {},
     "output_type": "execute_result"
    }
   ],
   "source": [
    "df.testing_accuracy"
   ]
  },
  {
   "cell_type": "code",
   "execution_count": 18,
   "id": "c5953490",
   "metadata": {},
   "outputs": [
    {
     "data": {
      "text/plain": [
       "<matplotlib.collections.PathCollection at 0x7fe31580d0a0>"
      ]
     },
     "execution_count": 18,
     "metadata": {},
     "output_type": "execute_result"
    },
    {
     "data": {
      "image/png": "[encoded data removed]",
      "text/plain": [
       "<Figure size 432x288 with 1 Axes>"
      ]
     },
     "metadata": {
      "needs_background": "light"
     },
     "output_type": "display_data"
    }
   ],
   "source": [
    "plt.scatter(x=df[[\"size\"]], y=df.testing_accuracy)"
   ]
  },
  {
   "cell_type": "code",
   "execution_count": 29,
   "id": "2b408036",
   "metadata": {},
   "outputs": [
    {
     "data": {
      "text/plain": [
       "Text(0.5, 1.0, 'Data Size and Accuracy for ce.acc vs. ce.n1acc')"
      ]
     },
     "execution_count": 29,
     "metadata": {},
     "output_type": "execute_result"
    },
    {
     "data": {
      "image/png": "[encoded data removed]",
      "text/plain": [
       "<Figure size 432x288 with 1 Axes>"
      ]
     },
     "metadata": {
      "needs_background": "light"
     },
     "output_type": "display_data"
    }
   ],
   "source": [
    "plt.plot(df[[\"size\"]], df.testing_accuracy)\n",
    "plt.xlabel(\"Size of Dataset\")\n",
    "plt.ylabel(\"Accuracy\")\n",
    "plt.title(\"Data Size and Accuracy for ce.acc vs. ce.n1acc\")"
   ]
  },
  {
   "cell_type": "code",
   "execution_count": 28,
   "id": "adfae6b4",
   "metadata": {},
   "outputs": [
    {
     "data": {
      "text/plain": [
       "<Figure size 432x288 with 0 Axes>"
      ]
     },
     "metadata": {},
     "output_type": "display_data"
    }
   ],
   "source": [
    "plt.savefig(\"n1acc_accuracy_graph\")"
   ]
  },
  {
   "cell_type": "code",
   "execution_count": null,
   "id": "0042fdeb",
   "metadata": {},
   "outputs": [],
   "source": []
  }
 ],
 "metadata": {
  "kernelspec": {
   "display_name": "Python 3 (ipykernel)",
   "language": "python",
   "name": "python3"
  },
  "language_info": {
   "codemirror_mode": {
    "name": "ipython",
    "version": 3
   },
   "file_extension": ".py",
   "mimetype": "text/x-python",
   "name": "python",
   "nbconvert_exporter": "python",
   "pygments_lexer": "ipython3",
   "version": "3.8.2"
  }
 },
 "nbformat": 4,
 "nbformat_minor": 5
}
