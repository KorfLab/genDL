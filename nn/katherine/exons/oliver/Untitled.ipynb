{
 "cells": [
  {
   "cell_type": "code",
   "execution_count": 10,
   "id": "b2ab5f54",
   "metadata": {},
   "outputs": [],
   "source": [
    "import seqio\n",
    "import pandas as pd\n",
    "import numpy as np\n",
    "from tensorflow import keras\n",
    "from sklearn.model_selection import train_test_split"
   ]
  },
  {
   "cell_type": "code",
   "execution_count": 11,
   "id": "ef784042",
   "metadata": {},
   "outputs": [],
   "source": [
    "# Hard code for jupyter\n",
    "file1 = \"cds0.fa.gz\" # true exons\n",
    "file0 = \"cdsf.fa.gz\" # false 'randomly' generated sequences"
   ]
  },
  {
   "cell_type": "code",
   "execution_count": 28,
   "id": "1f4e7288",
   "metadata": {
    "scrolled": true
   },
   "outputs": [],
   "source": [
    "# Convert true and false files into dataframe with labels, randomly shuffle\n",
    "df1 = pd.DataFrame({\"Sequence\": seqio.fasta2onehot(file1, ''), \"Label\": np.ones(len(s1))})\n",
    "df0 = pd.DataFrame({\"Sequence\": seqio.fasta2onehot(file0, ''), \"Label\": np.zeros(len(s0))})\n",
    "df = df1.append(df0)\n",
    "df = df.sample(frac=1, random_state=42)"
   ]
  },
  {
   "cell_type": "code",
   "execution_count": 33,
   "id": "1a137140",
   "metadata": {},
   "outputs": [],
   "source": [
    "# Create training and test features and labels\n",
    "X = df[\"Sequence\"]\n",
    "Y = df[\"Label\"]\n",
    "x_train, x_test, y_train, y_test = train_test_split(X,Y,test_size=0.2, stratify=Y)"
   ]
  },
  {
   "cell_type": "code",
   "execution_count": 61,
   "id": "5d32604b",
   "metadata": {},
   "outputs": [],
   "source": [
    "# Compile Neural Network using list of layers\n",
    "NN = keras.Sequential()\n",
    "my_layers = [5 for i in range(10)]\n",
    "\n",
    "# Input Layer\n",
    "NN.add(keras.layers.Dense(my_layers[0], activation='sigmoid', input_shape=(204,)))\n",
    "\n",
    "# Iterate through my_layers, use index to limit number\n",
    "for layer in my_layers[1:2]:\n",
    "    NN.add(keras.layers.Dense(layer))\n",
    "    NN.add(keras.layers.Dropout(0.2))\n",
    "    NN.add(keras.layers.Dense(3, kernel_regularizer='l2'))\n",
    "\n",
    "# Output layer\n",
    "NN.add(keras.layers.Dense(1, activation='sigmoid'))\n",
    "\n",
    "# Compile sequential model\n",
    "opt = keras.optimizers.Adam(learning_rate=0.0001)\n",
    "my_metrics = ['accuracy', \n",
    "              keras.metrics.Precision(name='Precision',thresholds=0.5),\n",
    "              keras.metrics.Recall(name='Recall',thresholds=0.5)]\n",
    "NN.compile(loss='binary_crossentropy', optimizer=opt, metrics=my_metrics)"
   ]
  },
  {
   "cell_type": "code",
   "execution_count": 72,
   "id": "1ce44e9e",
   "metadata": {},
   "outputs": [
    {
     "data": {
      "text/plain": [
       "'Not working because of a (32, 1) input shape ... \\nnot sure where this is coming from as all x_train inputs are 204 long'"
      ]
     },
     "execution_count": 72,
     "metadata": {},
     "output_type": "execute_result"
    }
   ],
   "source": [
    "e = 40\n",
    "b = None\n",
    "\"\"\"Not working because of a (32, 1) input shape ... \n",
    " not sure where this is coming from as all x_train inputs are 204 long\"\"\"\n",
    "# result = NN.fit(x_train, y_train, epochs=e, batch_size=b)"
   ]
  }
 ],
 "metadata": {
  "kernelspec": {
   "display_name": "Python 3 (ipykernel)",
   "language": "python",
   "name": "python3"
  },
  "language_info": {
   "codemirror_mode": {
    "name": "ipython",
    "version": 3
   },
   "file_extension": ".py",
   "mimetype": "text/x-python",
   "name": "python",
   "nbconvert_exporter": "python",
   "pygments_lexer": "ipython3",
   "version": "3.9.7"
  }
 },
 "nbformat": 4,
 "nbformat_minor": 5
}
